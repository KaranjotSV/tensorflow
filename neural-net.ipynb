{
 "cells": [
  {
   "cell_type": "code",
   "execution_count": 1,
   "id": "346c716b",
   "metadata": {},
   "outputs": [],
   "source": [
    "import numpy as np"
   ]
  },
  {
   "cell_type": "code",
   "execution_count": 2,
   "id": "e38020e6",
   "metadata": {},
   "outputs": [],
   "source": [
    "def sigmoid(x): # Activation function: f(x) = 1/(1 + e^(-x))\n",
    "    \n",
    "    return 1 / (1 + np.exp(-x))"
   ]
  },
  {
   "cell_type": "code",
   "execution_count": 3,
   "id": "7591a615",
   "metadata": {},
   "outputs": [],
   "source": [
    "class Neuron:\n",
    "    \n",
    "    def __init__(self, weights, bias):\n",
    "        self.weights = weights\n",
    "        self.bias = bias\n",
    "        \n",
    "    def feedforward(self, inputs): # weight inputs, add bias, activation function\n",
    "        total = np.dot(self.weights, inputs) + self.bias\n",
    "        return sigmoid(total)"
   ]
  },
  {
   "cell_type": "code",
   "execution_count": 4,
   "id": "2368cb48",
   "metadata": {},
   "outputs": [
    {
     "name": "stdout",
     "output_type": "stream",
     "text": [
      "0.9990889488055994\n"
     ]
    }
   ],
   "source": [
    "weights = np.array([0, 1])\n",
    "bias = 4\n",
    "\n",
    "neuron = Neuron(weights, bias)\n",
    "\n",
    "inp = np.array([2, 3])\n",
    "\n",
    "print(neuron.feedforward(inp))"
   ]
  },
  {
   "cell_type": "code",
   "execution_count": null,
   "id": "59642c0c",
   "metadata": {},
   "outputs": [],
   "source": []
  }
 ],
 "metadata": {
  "kernelspec": {
   "display_name": "Miscellaneous",
   "language": "python",
   "name": "miscellaneous"
  },
  "language_info": {
   "codemirror_mode": {
    "name": "ipython",
    "version": 3
   },
   "file_extension": ".py",
   "mimetype": "text/x-python",
   "name": "python",
   "nbconvert_exporter": "python",
   "pygments_lexer": "ipython3",
   "version": "3.9.4"
  }
 },
 "nbformat": 4,
 "nbformat_minor": 5
}
