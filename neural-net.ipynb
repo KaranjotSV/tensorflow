{
 "cells": [
  {
   "cell_type": "code",
   "execution_count": 1,
   "id": "8caace89",
   "metadata": {},
   "outputs": [],
   "source": [
    "import numpy as np"
   ]
  },
  {
   "cell_type": "code",
   "execution_count": 2,
   "id": "baff47cc",
   "metadata": {},
   "outputs": [],
   "source": [
    "def sigmoid(x): # Activation function: f(x) = 1/(1 + e^(-x))\n",
    "    \n",
    "    return 1 / (1 + np.exp(-x))\n",
    "\n",
    "def deriv_sigmoid(x): # Derivative of sigmoid: f'(x) = f(x) * (1 - f(x))\n",
    "    fx = sigmoid(x)\n",
    "    \n",
    "    return fx * (1 - fx)"
   ]
  },
  {
   "cell_type": "code",
   "execution_count": 3,
   "id": "24d25d04",
   "metadata": {},
   "outputs": [],
   "source": [
    "class Neuron:\n",
    "    \n",
    "    def __init__(self, weights, bias):\n",
    "        self.weights = weights\n",
    "        self.bias = bias\n",
    "        \n",
    "    def feedforward(self, inputs): # weight inputs, add bias, activation function\n",
    "        total = np.dot(self.weights, inputs) + self.bias\n",
    "        return sigmoid(total)"
   ]
  },
  {
   "cell_type": "code",
   "execution_count": 4,
   "id": "55538064",
   "metadata": {},
   "outputs": [
    {
     "name": "stdout",
     "output_type": "stream",
     "text": [
      "0.9990889488055994\n"
     ]
    }
   ],
   "source": [
    "weights = np.array([0, 1])\n",
    "bias = 4\n",
    "\n",
    "neuron = Neuron(weights, bias)\n",
    "\n",
    "x = np.array([2, 3])\n",
    "\n",
    "print(neuron.feedforward(x))"
   ]
  },
  {
   "cell_type": "code",
   "execution_count": 5,
   "id": "d3a37ad4",
   "metadata": {},
   "outputs": [],
   "source": [
    "class Network:\n",
    "    '''\n",
    "    Neural network with:\n",
    "        - 2 inputs\n",
    "        - a hidden layer with 2 neurons (h1, h2)\n",
    "        - an output layer with 1 neuron (o1)\n",
    "    Each neuron would have same weights and bias\n",
    "    '''\n",
    "    \n",
    "    def __init__(self, weights, bias):\n",
    "        self.h1 = Neuron(weights, bias)\n",
    "        self.h2 = Neuron(weights, bias)\n",
    "        \n",
    "        self.o1 = Neuron(weights, bias)\n",
    "        \n",
    "    def feedforward(self, x):\n",
    "        out_h1 = self.h1.feedforward(x)\n",
    "        out_h2 = self.h2.feedforward(x)\n",
    "        \n",
    "        # outputs of h1 and h2 are fed into o1\n",
    "        out_o1 = self.o1.feedforward(np.array([out_h1, out_h2]))\n",
    "        \n",
    "        return out_o1"
   ]
  },
  {
   "cell_type": "code",
   "execution_count": 6,
   "id": "915d8a00",
   "metadata": {},
   "outputs": [
    {
     "name": "stdout",
     "output_type": "stream",
     "text": [
      "0.7216325609518421\n"
     ]
    }
   ],
   "source": [
    "weights = np.array([0, 1])\n",
    "bias = 0\n",
    "\n",
    "network = Network(weights, bias)\n",
    "\n",
    "x = np.array([2, 3])\n",
    "\n",
    "print(network.feedforward(x))"
   ]
  },
  {
   "cell_type": "code",
   "execution_count": 7,
   "id": "a415c2ca",
   "metadata": {},
   "outputs": [],
   "source": [
    "def mse_loss(y_true, y_pred): # y_true and y_pred are numpy arrays of the same length\n",
    "    \n",
    "    return ((y_true - y_pred) ** 2).mean() "
   ]
  },
  {
   "cell_type": "code",
   "execution_count": 8,
   "id": "9915ea77",
   "metadata": {},
   "outputs": [
    {
     "name": "stdout",
     "output_type": "stream",
     "text": [
      "0.5\n"
     ]
    }
   ],
   "source": [
    "y_true = np.array([1, 0, 0, 1])\n",
    "y_pred = np.array([0, 0, 0, 0])\n",
    "\n",
    "print(mse_loss(y_true, y_pred))"
   ]
  },
  {
   "cell_type": "code",
   "execution_count": 9,
   "id": "3b3a100a",
   "metadata": {},
   "outputs": [],
   "source": [
    "# Here we go!\n",
    "\n",
    "class NeuralNetwork:\n",
    "    \n",
    "    def __init__(self, weights=None, biases=None):\n",
    "        if not weights:\n",
    "            self.w1 = np.random.normal()\n",
    "            self.w2 = np.random.normal()\n",
    "            self.w3 = np.random.normal()\n",
    "            self.w4 = np.random.normal()\n",
    "            self.w5 = np.random.normal()\n",
    "            self.w6 = np.random.normal()\n",
    "        else:\n",
    "            self.w1 = weights[0]\n",
    "            self.w2 = weights[1]\n",
    "            self.w3 = weights[2]\n",
    "            self.w4 = weights[3]\n",
    "            self.w5 = weights[4]\n",
    "            self.w6 = weights[5]\n",
    "        \n",
    "        if not biases:\n",
    "            self.b1 = np.random.normal()\n",
    "            self.b2 = np.random.normal()\n",
    "            self.b3 = np.random.normal()\n",
    "        else:\n",
    "            self.b1 = biases[0]\n",
    "            self.b2 = biases[1]\n",
    "            self.b3 = biases[2]\n",
    "        \n",
    "        print(\"Initialized weights:\", self.w1, self.w2, self.w3, self.w4, self.w5, self.w6, \"\\n\")\n",
    "        print(\"Initialized biases:\", self.b1, self.b2, self.b3, \"\\n\")\n",
    "    \n",
    "    def feedforward(self, x):\n",
    "        # x is a numpy array with 2 elements\n",
    "        h1 = sigmoid(self.w1 * x[0] + self.w2 * x[1] + self.b1)\n",
    "        h2 = sigmoid(self.w3 * x[0] + self.w4 * x[1] + self.b2)\n",
    "        \n",
    "        o1 = sigmoid(self.w5 * h1 + self.w6 * h2 + self.b3)\n",
    "        \n",
    "        return o1\n",
    "    \n",
    "    def train(self, data, y_trues):\n",
    "        '''\n",
    "        - data is a (n x 2) numpy array, n = # of samples in the dataset\n",
    "        - y_trues is a numpy array with n elements\n",
    "        '''\n",
    "        learn_rate = 0.1\n",
    "        epochs = 1000 # number of times to loop through the entire dataset\n",
    "        \n",
    "        for epoch in range(epochs):\n",
    "            for x, y_true in zip(data, y_trues):\n",
    "                \n",
    "                # --- feedforward step\n",
    "                sum_h1 = self.w1 * x[0] + self.w2 * x[1] + self.b1\n",
    "                h1 = sigmoid(sum_h1)\n",
    "                \n",
    "                sum_h2 = self.w3 * x[0] + self.w4 * x[1] + self.b2\n",
    "                h2 = sigmoid(sum_h2)\n",
    "                \n",
    "                sum_o1 = self.w5 * h1 + self.w6 * h2 + self.b3\n",
    "                o1 = sigmoid(sum_o1)\n",
    "                \n",
    "                y_pred = o1\n",
    "                \n",
    "                # --- partial derivatives\n",
    "                dL_dypred = -2 * (y_true - y_pred)\n",
    "                \n",
    "                # neuron o1\n",
    "                dypred_dw5 = h1 * deriv_sigmoid(sum_o1)\n",
    "                dypred_dw6 = h2 * deriv_sigmoid(sum_o1)\n",
    "                dypred_db3 = deriv_sigmoid(sum_o1)\n",
    "                \n",
    "                dypred_dh1 = self.w5 * deriv_sigmoid(sum_o1)\n",
    "                dypred_dh2 = self.w6 * deriv_sigmoid(sum_o1)\n",
    "                \n",
    "                # neuron h1\n",
    "                dh1_dw1 = x[0] * deriv_sigmoid(sum_h1)\n",
    "                dh1_dw2 = x[1] * deriv_sigmoid(sum_h1)\n",
    "                dh1_db1 = deriv_sigmoid(sum_h1)\n",
    "                \n",
    "                # neuron h2\n",
    "                dh2_dw3 = x[0] * deriv_sigmoid(sum_h2)\n",
    "                dh2_dw4 = x[1] * deriv_sigmoid(sum_h2)\n",
    "                dh2_db2 = deriv_sigmoid(sum_h2)\n",
    "                \n",
    "                # --- updation of weights and biases\n",
    "                # neuron h1\n",
    "                self.w1 -= learn_rate * dL_dypred * dypred_dh1 * dh1_dw1\n",
    "                self.w2 -= learn_rate * dL_dypred * dypred_dh1 * dh1_dw2\n",
    "                self.b1 -= learn_rate * dL_dypred * dypred_dh1 * dh1_db1\n",
    "                \n",
    "                # neuron h2\n",
    "                self.w3 -= learn_rate * dL_dypred * dypred_dh2 * dh2_dw3\n",
    "                self.w4 -= learn_rate * dL_dypred * dypred_dh2 * dh2_dw4\n",
    "                self.b2 -= learn_rate * dL_dypred * dypred_dh2 * dh2_db2\n",
    "                \n",
    "                # neuron o1\n",
    "                self.w5 -= learn_rate * dL_dypred * dypred_dw5\n",
    "                self.w6 -= learn_rate * dL_dypred * dypred_dw5\n",
    "                self.b3 -= learn_rate * dL_dypred * dypred_db3\n",
    "            \n",
    "            # --- calculation of total loss\n",
    "            if epoch % 10 == 0:\n",
    "                y_preds = np.apply_along_axis(self.feedforward, 1, data)\n",
    "                loss = mse_loss(y_trues, y_preds)\n",
    "                \n",
    "                print(\"Epoch %d loss: %.5f\" % (epoch, loss))"
   ]
  },
  {
   "cell_type": "code",
   "execution_count": 10,
   "id": "63688d69",
   "metadata": {},
   "outputs": [],
   "source": [
    "# define dataset\n",
    "data = np.array([\n",
    "    [-2, -1],\n",
    "    [25, 6],\n",
    "    [17, 4],\n",
    "    [-15, -6]\n",
    "])\n",
    "\n",
    "y_trues = np.array([\n",
    "    1,\n",
    "    0,\n",
    "    0,\n",
    "    1\n",
    "])"
   ]
  },
  {
   "cell_type": "code",
   "execution_count": 11,
   "id": "3e0f2efc",
   "metadata": {
    "scrolled": false
   },
   "outputs": [
    {
     "name": "stdout",
     "output_type": "stream",
     "text": [
      "Initialized weights: -0.4267315474989344 1.8037183784371178 1.0830229667723357 -0.403650654175028 -1.32241349474159 2.1896616559746134 \n",
      "\n",
      "Initialized biases: -0.5498242570853832 0.7467031058617464 0.22020593873861743 \n",
      "\n",
      "Epoch 0 loss: 0.35323\n",
      "Epoch 10 loss: 0.19691\n",
      "Epoch 20 loss: 0.13612\n",
      "Epoch 30 loss: 0.10579\n",
      "Epoch 40 loss: 0.08539\n",
      "Epoch 50 loss: 0.06950\n",
      "Epoch 60 loss: 0.04556\n",
      "Epoch 70 loss: 0.03207\n",
      "Epoch 80 loss: 0.02881\n",
      "Epoch 90 loss: 0.02732\n",
      "Epoch 100 loss: 0.02639\n",
      "Epoch 110 loss: 0.02577\n",
      "Epoch 120 loss: 0.02534\n",
      "Epoch 130 loss: 0.02502\n",
      "Epoch 140 loss: 0.02477\n",
      "Epoch 150 loss: 0.02458\n",
      "Epoch 160 loss: 0.02442\n",
      "Epoch 170 loss: 0.02428\n",
      "Epoch 180 loss: 0.02416\n",
      "Epoch 190 loss: 0.02405\n",
      "Epoch 200 loss: 0.02394\n",
      "Epoch 210 loss: 0.02385\n",
      "Epoch 220 loss: 0.02375\n",
      "Epoch 230 loss: 0.02365\n",
      "Epoch 240 loss: 0.02355\n",
      "Epoch 250 loss: 0.02344\n",
      "Epoch 260 loss: 0.02332\n",
      "Epoch 270 loss: 0.02317\n",
      "Epoch 280 loss: 0.02298\n",
      "Epoch 290 loss: 0.02267\n",
      "Epoch 300 loss: 0.02196\n",
      "Epoch 310 loss: 0.01886\n",
      "Epoch 320 loss: 0.01541\n",
      "Epoch 330 loss: 0.01287\n",
      "Epoch 340 loss: 0.01069\n",
      "Epoch 350 loss: 0.00967\n",
      "Epoch 360 loss: 0.00909\n",
      "Epoch 370 loss: 0.00867\n",
      "Epoch 380 loss: 0.00833\n",
      "Epoch 390 loss: 0.00802\n",
      "Epoch 400 loss: 0.00775\n",
      "Epoch 410 loss: 0.00750\n",
      "Epoch 420 loss: 0.00727\n",
      "Epoch 430 loss: 0.00705\n",
      "Epoch 440 loss: 0.00685\n",
      "Epoch 450 loss: 0.00665\n",
      "Epoch 460 loss: 0.00646\n",
      "Epoch 470 loss: 0.00629\n",
      "Epoch 480 loss: 0.00612\n",
      "Epoch 490 loss: 0.00596\n",
      "Epoch 500 loss: 0.00580\n",
      "Epoch 510 loss: 0.00565\n",
      "Epoch 520 loss: 0.00551\n",
      "Epoch 530 loss: 0.00537\n",
      "Epoch 540 loss: 0.00524\n",
      "Epoch 550 loss: 0.00511\n",
      "Epoch 560 loss: 0.00499\n",
      "Epoch 570 loss: 0.00487\n",
      "Epoch 580 loss: 0.00476\n",
      "Epoch 590 loss: 0.00465\n",
      "Epoch 600 loss: 0.00455\n",
      "Epoch 610 loss: 0.00445\n",
      "Epoch 620 loss: 0.00435\n",
      "Epoch 630 loss: 0.00425\n",
      "Epoch 640 loss: 0.00416\n",
      "Epoch 650 loss: 0.00408\n",
      "Epoch 660 loss: 0.00399\n",
      "Epoch 670 loss: 0.00391\n",
      "Epoch 680 loss: 0.00383\n",
      "Epoch 690 loss: 0.00376\n",
      "Epoch 700 loss: 0.00368\n",
      "Epoch 710 loss: 0.00361\n",
      "Epoch 720 loss: 0.00354\n",
      "Epoch 730 loss: 0.00348\n",
      "Epoch 740 loss: 0.00341\n",
      "Epoch 750 loss: 0.00335\n",
      "Epoch 760 loss: 0.00329\n",
      "Epoch 770 loss: 0.00323\n",
      "Epoch 780 loss: 0.00318\n",
      "Epoch 790 loss: 0.00312\n",
      "Epoch 800 loss: 0.00307\n",
      "Epoch 810 loss: 0.00302\n",
      "Epoch 820 loss: 0.00297\n",
      "Epoch 830 loss: 0.00292\n",
      "Epoch 840 loss: 0.00287\n",
      "Epoch 850 loss: 0.00283\n",
      "Epoch 860 loss: 0.00278\n",
      "Epoch 870 loss: 0.00274\n",
      "Epoch 880 loss: 0.00270\n",
      "Epoch 890 loss: 0.00266\n",
      "Epoch 900 loss: 0.00262\n",
      "Epoch 910 loss: 0.00258\n",
      "Epoch 920 loss: 0.00255\n",
      "Epoch 930 loss: 0.00251\n",
      "Epoch 940 loss: 0.00247\n",
      "Epoch 950 loss: 0.00244\n",
      "Epoch 960 loss: 0.00241\n",
      "Epoch 970 loss: 0.00237\n",
      "Epoch 980 loss: 0.00234\n",
      "Epoch 990 loss: 0.00231\n"
     ]
    }
   ],
   "source": [
    "# let's train!\n",
    "\n",
    "network = NeuralNetwork()\n",
    "network.train(data, y_trues)"
   ]
  },
  {
   "cell_type": "markdown",
   "id": "5bb8bd04",
   "metadata": {},
   "source": [
    "**[Reference](https://victorzhou.com/blog/intro-to-neural-networks/)** - Introduction to Neural Networks"
   ]
  },
  {
   "cell_type": "code",
   "execution_count": 12,
   "id": "4787f2e5",
   "metadata": {},
   "outputs": [
    {
     "name": "stdout",
     "output_type": "stream",
     "text": [
      "Emily: 0.958\n",
      "Frank: 0.040\n"
     ]
    }
   ],
   "source": [
    "# let's predict!\n",
    "\n",
    "emily = np.array([-7, -3])\n",
    "frank = np.array([20, 2])\n",
    "\n",
    "print(\"Emily: %.3f\" % network.feedforward(emily))\n",
    "print(\"Frank: %.3f\" % network.feedforward(frank))"
   ]
  },
  {
   "cell_type": "markdown",
   "id": "e96fd1ca",
   "metadata": {},
   "source": [
    "### MNIST "
   ]
  },
  {
   "cell_type": "code",
   "execution_count": 13,
   "id": "ced83bd3",
   "metadata": {},
   "outputs": [],
   "source": [
    "import os\n",
    "os.environ['TF_CPP_MIN_LOG_LEVEL'] = '3' \n",
    "import tensorflow as tf"
   ]
  },
  {
   "cell_type": "code",
   "execution_count": 14,
   "id": "72d36ad9",
   "metadata": {},
   "outputs": [],
   "source": [
    "import mnist\n",
    "from tensorflow import keras"
   ]
  },
  {
   "cell_type": "code",
   "execution_count": 15,
   "id": "63d99e18",
   "metadata": {},
   "outputs": [
    {
     "name": "stdout",
     "output_type": "stream",
     "text": [
      "(60000, 28, 28) (60000,)\n"
     ]
    }
   ],
   "source": [
    "train_images = mnist.train_images()\n",
    "train_labels = mnist.train_labels()\n",
    "\n",
    "print(train_images.shape, train_labels.shape)\n",
    "\n",
    "test_images = mnist.test_images()\n",
    "test_labels = mnist.test_labels()"
   ]
  },
  {
   "cell_type": "code",
   "execution_count": 16,
   "id": "89643fbe",
   "metadata": {},
   "outputs": [
    {
     "name": "stdout",
     "output_type": "stream",
     "text": [
      "(60000, 784) (10000, 784)\n"
     ]
    }
   ],
   "source": [
    "# normalize the images\n",
    "\n",
    "train_images = (train_images / 255) - 0.5\n",
    "test_images = (test_images / 255) - 0.5\n",
    "\n",
    "# flatten the images\n",
    "\n",
    "train_images = train_images.reshape((-1, 784))\n",
    "test_images = test_images.reshape((-1, 784))\n",
    "\n",
    "print(train_images.shape, test_images.shape)"
   ]
  },
  {
   "cell_type": "code",
   "execution_count": 17,
   "id": "ec6b4151",
   "metadata": {},
   "outputs": [],
   "source": [
    "from tensorflow.keras.models import Sequential\n",
    "from tensorflow.keras.layers import Dense, Dropout\n",
    "from tensorflow.keras.optimizers import Adam\n",
    "\n",
    "from tensorflow.keras.utils import to_categorical"
   ]
  },
  {
   "cell_type": "code",
   "execution_count": 18,
   "id": "5d076cfc",
   "metadata": {},
   "outputs": [],
   "source": [
    "model = Sequential([Dense(64, activation='relu', input_shape=(784, )),\n",
    "                    Dense(128, activation='relu'),\n",
    "#                     Dropout(0.8),\n",
    "                    Dense(64, activation='relu'),\n",
    "                    Dense(10, activation='softmax')])\n",
    "\n",
    "model.compile(optimizer=Adam(learning_rate=0.01),\n",
    "              loss='categorical_crossentropy',\n",
    "              metrics=['accuracy'])"
   ]
  },
  {
   "cell_type": "code",
   "execution_count": 19,
   "id": "a9e756b7",
   "metadata": {},
   "outputs": [
    {
     "name": "stdout",
     "output_type": "stream",
     "text": [
      "Epoch 1/5\n",
      "1875/1875 [==============================] - 5s 3ms/step - loss: 0.4810 - accuracy: 0.8535 - val_loss: 0.4786 - val_accuracy: 0.8540\n",
      "Epoch 2/5\n",
      "1875/1875 [==============================] - 5s 2ms/step - loss: 0.3612 - accuracy: 0.8972 - val_loss: 0.2788 - val_accuracy: 0.9228\n",
      "Epoch 3/5\n",
      "1875/1875 [==============================] - 5s 2ms/step - loss: 0.3435 - accuracy: 0.9027 - val_loss: 0.3191 - val_accuracy: 0.9114\n",
      "Epoch 4/5\n",
      "1875/1875 [==============================] - 5s 2ms/step - loss: 0.3369 - accuracy: 0.9063 - val_loss: 0.4089 - val_accuracy: 0.8886\n",
      "Epoch 5/5\n",
      "1875/1875 [==============================] - 5s 2ms/step - loss: 0.3165 - accuracy: 0.9128 - val_loss: 0.3000 - val_accuracy: 0.9194\n"
     ]
    },
    {
     "data": {
      "text/plain": [
       "<keras.callbacks.History at 0x7f06780a5af0>"
      ]
     },
     "execution_count": 19,
     "metadata": {},
     "output_type": "execute_result"
    }
   ],
   "source": [
    "model.fit(train_images,\n",
    "          to_categorical(train_labels),\n",
    "          epochs=5,\n",
    "          batch_size=32,\n",
    "          validation_data=(test_images, to_categorical(test_labels)))"
   ]
  },
  {
   "cell_type": "code",
   "execution_count": 20,
   "id": "3ba87ae8",
   "metadata": {},
   "outputs": [
    {
     "name": "stdout",
     "output_type": "stream",
     "text": [
      "313/313 [==============================] - 1s 2ms/step - loss: 0.3000 - accuracy: 0.9194\n"
     ]
    },
    {
     "data": {
      "text/plain": [
       "[0.3000122606754303, 0.9193999767303467]"
      ]
     },
     "execution_count": 20,
     "metadata": {},
     "output_type": "execute_result"
    }
   ],
   "source": [
    "model.evaluate(test_images,\n",
    "               to_categorical(test_labels))\n",
    "\n",
    "# model.save_weights('model.h5')"
   ]
  },
  {
   "cell_type": "code",
   "execution_count": 21,
   "id": "b503f081",
   "metadata": {},
   "outputs": [
    {
     "name": "stdout",
     "output_type": "stream",
     "text": [
      "Predictions: [7 2 1 0 4] \n",
      "\n",
      "Ground truths: [7 2 1 0 4]\n"
     ]
    }
   ],
   "source": [
    "predictions = model.predict(test_images[ : 5])\n",
    "\n",
    "print(\"Predictions:\", np.argmax(predictions, axis=1), \"\\n\")\n",
    "\n",
    "print(\"Ground truths:\", test_labels[ : 5])"
   ]
  },
  {
   "cell_type": "code",
   "execution_count": null,
   "id": "e790d5d9",
   "metadata": {},
   "outputs": [],
   "source": []
  }
 ],
 "metadata": {
  "kernelspec": {
   "display_name": "Learn",
   "language": "python",
   "name": "learn"
  },
  "language_info": {
   "codemirror_mode": {
    "name": "ipython",
    "version": 3
   },
   "file_extension": ".py",
   "mimetype": "text/x-python",
   "name": "python",
   "nbconvert_exporter": "python",
   "pygments_lexer": "ipython3",
   "version": "3.8.11"
  }
 },
 "nbformat": 4,
 "nbformat_minor": 5
}
