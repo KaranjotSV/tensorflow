{
 "cells": [
  {
   "cell_type": "code",
   "execution_count": 1,
   "id": "a68759e1",
   "metadata": {},
   "outputs": [],
   "source": [
    "import numpy as np"
   ]
  },
  {
   "cell_type": "markdown",
   "id": "0fb97f3a",
   "metadata": {},
   "source": [
    "Gradient Descent"
   ]
  },
  {
   "cell_type": "code",
   "execution_count": 2,
   "id": "61af0532",
   "metadata": {},
   "outputs": [],
   "source": [
    "class LinearRegression:\n",
    "    \n",
    "    def __init__(self, eta=0.1, n_iter=100):\n",
    "        self.eta = eta\n",
    "        self.n_iter = n_iter\n",
    "        \n",
    "    def fit(self, X, y):\n",
    "        X = np.insert(X, 0, 1, axis=1)\n",
    "        self.w = np.ones(X.shape[1])\n",
    "        m = X.shape[0]\n",
    "        \n",
    "        for i_iter in range(self.n_iter):\n",
    "            output = X.dot(self.w)\n",
    "            errors = y - output\n",
    "            \n",
    "            # logging\n",
    "            if i_iter % 10 == 0:\n",
    "                print(\"Epoch: %d  \" % i_iter, \"Error: %.3f\" % sum(errors ** 2), \"Weights:\", self.w)\n",
    "            \n",
    "            # updating weights\n",
    "            self.w = self.w + (self.eta/m) * errors.dot(X)\n",
    "        \n",
    "        return errors\n",
    "    \n",
    "    def predict(self, X):\n",
    "        output = np.insert(X, 0, 1, axis=1).dot(self.w)\n",
    "        \n",
    "        return output\n",
    "    \n",
    "    def score(self, X, y):\n",
    "        output = self.predict(X)\n",
    "        squares = ((y - output) ** 2).sum()\n",
    "        res_squares = ((y - np.mean(y)) ** 2).sum()\n",
    "        \n",
    "        return 1 - (squares/res_squares)"
   ]
  },
  {
   "cell_type": "code",
   "execution_count": 5,
   "id": "9e553d1d",
   "metadata": {},
   "outputs": [],
   "source": [
    "X = np.array([[0], [1], [2], [3]])\n",
    "\n",
    "y = np.array([0, 1, 2, 3])\n",
    "\n",
    "regression = LinearRegression(eta=0.05, n_iter=150)"
   ]
  },
  {
   "cell_type": "code",
   "execution_count": 6,
   "id": "bc2a9903",
   "metadata": {},
   "outputs": [
    {
     "name": "stdout",
     "output_type": "stream",
     "text": [
      "Epoch: 0   Error: 4.000 Weights: [1. 1.]\n",
      "Epoch: 10   Error: 0.750 Weights: [0.72298241 0.70564832]\n",
      "Epoch: 20   Error: 0.536 Weights: [0.60934648 0.71878268]\n",
      "Epoch: 30   Error: 0.397 Weights: [0.52332358 0.75528398]\n",
      "Epoch: 40   Error: 0.294 Weights: [0.45038632 0.78908773]\n",
      "Epoch: 50   Error: 0.218 Weights: [0.38770377 0.8184128 ]\n",
      "Epoch: 60   Error: 0.162 Weights: [0.3337535  0.84367856]\n",
      "Epoch: 70   Error: 0.120 Weights: [0.28731139 0.86543057]\n",
      "Epoch: 80   Error: 0.089 Weights: [0.24733182 0.88415597]\n",
      "Epoch: 90   Error: 0.066 Weights: [0.21291544 0.90027574]\n",
      "Epoch: 100   Error: 0.049 Weights: [0.18328812 0.91415244]\n",
      "Epoch: 110   Error: 0.036 Weights: [0.15778346 0.92609818]\n",
      "Epoch: 120   Error: 0.027 Weights: [0.13582779 0.93638166]\n",
      "Epoch: 130   Error: 0.020 Weights: [0.11692727 0.9452342 ]\n",
      "Epoch: 140   Error: 0.015 Weights: [0.10065677 0.95285489]\n",
      "\n",
      " [-0.08795842 -0.0467609  -0.00556338  0.03563414]\n"
     ]
    }
   ],
   "source": [
    "print(\"\\n\", regression.fit(X, y))"
   ]
  },
  {
   "cell_type": "code",
   "execution_count": 5,
   "id": "88d60f3d",
   "metadata": {},
   "outputs": [
    {
     "name": "stdout",
     "output_type": "stream",
     "text": [
      "[3.96502401 4.94626971]\n"
     ]
    }
   ],
   "source": [
    "print(regression.predict(np.array([[4], [5]])))"
   ]
  },
  {
   "cell_type": "markdown",
   "id": "baa84871",
   "metadata": {},
   "source": [
    "R-Squared - determines the proportion of variance in the dependent variable(y) that can be explained by the independent variable(x) \n",
    "(shows how well the data fit the regression model). But, it does not indicate the correctness of the regression model"
   ]
  },
  {
   "cell_type": "code",
   "execution_count": 6,
   "id": "a1f64150",
   "metadata": {},
   "outputs": [
    {
     "name": "stdout",
     "output_type": "stream",
     "text": [
      "0.9995348022799776\n"
     ]
    }
   ],
   "source": [
    "print(regression.score(X, y))"
   ]
  },
  {
   "cell_type": "markdown",
   "id": "b32a7ad4",
   "metadata": {},
   "source": [
    "Stochastic Gradient Descent"
   ]
  },
  {
   "cell_type": "code",
   "execution_count": null,
   "id": "6806ae75",
   "metadata": {},
   "outputs": [],
   "source": []
  }
 ],
 "metadata": {
  "kernelspec": {
   "display_name": "Miscellaneous",
   "language": "python",
   "name": "miscellaneous"
  },
  "language_info": {
   "codemirror_mode": {
    "name": "ipython",
    "version": 3
   },
   "file_extension": ".py",
   "mimetype": "text/x-python",
   "name": "python",
   "nbconvert_exporter": "python",
   "pygments_lexer": "ipython3",
   "version": "3.8.11"
  }
 },
 "nbformat": 4,
 "nbformat_minor": 5
}
