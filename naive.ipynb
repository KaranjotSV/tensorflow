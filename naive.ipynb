{
 "cells": [
  {
   "cell_type": "code",
   "execution_count": 1,
   "metadata": {},
   "outputs": [],
   "source": [
    "import matplotlib as plt\n",
    "from sklearn import datasets\n",
    "import pandas as pd\n",
    "import numpy as np"
   ]
  },
  {
   "cell_type": "markdown",
   "metadata": {},
   "source": [
    "Iris data"
   ]
  },
  {
   "cell_type": "code",
   "execution_count": 2,
   "metadata": {},
   "outputs": [],
   "source": [
    "iris = datasets.load_iris()"
   ]
  },
  {
   "cell_type": "code",
   "execution_count": 3,
   "metadata": {},
   "outputs": [],
   "source": [
    "iris_df = pd.DataFrame(data= np.c_[iris['data'], iris['target']],\n",
    "                     columns= iris['feature_names'] + ['target'])"
   ]
  },
  {
   "cell_type": "code",
   "execution_count": 4,
   "metadata": {},
   "outputs": [
    {
     "data": {
      "text/html": [
       "<div>\n",
       "<style scoped>\n",
       "    .dataframe tbody tr th:only-of-type {\n",
       "        vertical-align: middle;\n",
       "    }\n",
       "\n",
       "    .dataframe tbody tr th {\n",
       "        vertical-align: top;\n",
       "    }\n",
       "\n",
       "    .dataframe thead th {\n",
       "        text-align: right;\n",
       "    }\n",
       "</style>\n",
       "<table border=\"1\" class=\"dataframe\">\n",
       "  <thead>\n",
       "    <tr style=\"text-align: right;\">\n",
       "      <th></th>\n",
       "      <th>sepal length (cm)</th>\n",
       "      <th>sepal width (cm)</th>\n",
       "      <th>petal length (cm)</th>\n",
       "      <th>petal width (cm)</th>\n",
       "      <th>target</th>\n",
       "    </tr>\n",
       "  </thead>\n",
       "  <tbody>\n",
       "    <tr>\n",
       "      <th>0</th>\n",
       "      <td>5.1</td>\n",
       "      <td>3.5</td>\n",
       "      <td>1.4</td>\n",
       "      <td>0.2</td>\n",
       "      <td>0.0</td>\n",
       "    </tr>\n",
       "    <tr>\n",
       "      <th>1</th>\n",
       "      <td>4.9</td>\n",
       "      <td>3.0</td>\n",
       "      <td>1.4</td>\n",
       "      <td>0.2</td>\n",
       "      <td>0.0</td>\n",
       "    </tr>\n",
       "    <tr>\n",
       "      <th>2</th>\n",
       "      <td>4.7</td>\n",
       "      <td>3.2</td>\n",
       "      <td>1.3</td>\n",
       "      <td>0.2</td>\n",
       "      <td>0.0</td>\n",
       "    </tr>\n",
       "    <tr>\n",
       "      <th>3</th>\n",
       "      <td>4.6</td>\n",
       "      <td>3.1</td>\n",
       "      <td>1.5</td>\n",
       "      <td>0.2</td>\n",
       "      <td>0.0</td>\n",
       "    </tr>\n",
       "    <tr>\n",
       "      <th>4</th>\n",
       "      <td>5.0</td>\n",
       "      <td>3.6</td>\n",
       "      <td>1.4</td>\n",
       "      <td>0.2</td>\n",
       "      <td>0.0</td>\n",
       "    </tr>\n",
       "  </tbody>\n",
       "</table>\n",
       "</div>"
      ],
      "text/plain": [
       "   sepal length (cm)  sepal width (cm)  petal length (cm)  petal width (cm)  \\\n",
       "0                5.1               3.5                1.4               0.2   \n",
       "1                4.9               3.0                1.4               0.2   \n",
       "2                4.7               3.2                1.3               0.2   \n",
       "3                4.6               3.1                1.5               0.2   \n",
       "4                5.0               3.6                1.4               0.2   \n",
       "\n",
       "   target  \n",
       "0     0.0  \n",
       "1     0.0  \n",
       "2     0.0  \n",
       "3     0.0  \n",
       "4     0.0  "
      ]
     },
     "execution_count": 4,
     "metadata": {},
     "output_type": "execute_result"
    }
   ],
   "source": [
    "iris_df.head()"
   ]
  },
  {
   "cell_type": "code",
   "execution_count": 5,
   "metadata": {},
   "outputs": [],
   "source": [
    "iris_nparr = np.asarray(iris_df)"
   ]
  },
  {
   "cell_type": "markdown",
   "metadata": {},
   "source": [
    "Self-generated data"
   ]
  },
  {
   "cell_type": "code",
   "execution_count": 6,
   "metadata": {},
   "outputs": [],
   "source": [
    "from sklearn.datasets import make_blobs\n",
    "import matplotlib as plt\n",
    "import scipy.stats\n",
    "import math\n",
    "pi = math.pi"
   ]
  },
  {
   "cell_type": "code",
   "execution_count": 7,
   "metadata": {},
   "outputs": [
    {
     "name": "stdout",
     "output_type": "stream",
     "text": [
      "[[-0.79415228  2.10495117]\n",
      " [-9.15155186 -4.81286449]\n",
      " [-3.10367371  3.90202401]] [0 1 0]\n"
     ]
    }
   ],
   "source": [
    "x, y = make_blobs(n_samples = 100, centers = 2, n_features = 2, random_state = 1)\n",
    "print(x[ : 3], y[ : 3])"
   ]
  },
  {
   "cell_type": "code",
   "execution_count": 8,
   "metadata": {},
   "outputs": [
    {
     "name": "stdout",
     "output_type": "stream",
     "text": [
      "(100, 2) (100,)\n"
     ]
    }
   ],
   "source": [
    "print(x.shape, y.shape)"
   ]
  },
  {
   "cell_type": "code",
   "execution_count": 9,
   "metadata": {},
   "outputs": [
    {
     "name": "stdout",
     "output_type": "stream",
     "text": [
      "[-9.15155186 -4.81286449]\n"
     ]
    }
   ],
   "source": [
    "X = x[:5]\n",
    "Y = y[:5]\n",
    "\n",
    "print(X[1])"
   ]
  },
  {
   "cell_type": "code",
   "execution_count": 11,
   "metadata": {},
   "outputs": [],
   "source": [
    "# fit probability distribution to a univariate data sample\n",
    "def fit_distribution(data):\n",
    "    # estimate parameters\n",
    "    mu = np.mean(data)\n",
    "    sigma = np.std(data)\n",
    "    print(mu,sigma)\n",
    "    # fit distribution\n",
    "    dist = scipy.stats.norm(mu, sigma)\n",
    "    return dist"
   ]
  },
  {
   "cell_type": "code",
   "execution_count": 12,
   "metadata": {},
   "outputs": [],
   "source": [
    "# sort data into classes\n",
    "Xy0 = x[y == 0]\n",
    "Xy1 = x[y == 1]"
   ]
  },
  {
   "cell_type": "code",
   "execution_count": 13,
   "metadata": {},
   "outputs": [
    {
     "name": "stdout",
     "output_type": "stream",
     "text": [
      "0.5 0.5\n"
     ]
    }
   ],
   "source": [
    "# calculate priors\n",
    "priory0 = len(Xy0)/len(x)\n",
    "priory1 = len(Xy1)/len(x)\n",
    "print(priory0, priory1)"
   ]
  },
  {
   "cell_type": "code",
   "execution_count": 14,
   "metadata": {},
   "outputs": [
    {
     "name": "stdout",
     "output_type": "stream",
     "text": [
      "-1.5632888906409914 0.787444265443213\n",
      "4.426680361487157 0.958296071258367\n",
      "-9.681177100524485 0.8943078901048118\n",
      "-3.9713794295185845 0.9308177595208521\n"
     ]
    }
   ],
   "source": [
    "# PDFs for y = 0, for each feature x0, x1\n",
    "X0y0 = fit_distribution(Xy0[:,0])\n",
    "X1y0 = fit_distribution(Xy0[:,1])\n",
    "\n",
    "# PDFs for y = 1\n",
    "X0y1 = fit_distribution(Xy1[:,0])\n",
    "X1y1 = fit_distribution(Xy1[:,1])"
   ]
  },
  {
   "cell_type": "code",
   "execution_count": 15,
   "metadata": {},
   "outputs": [],
   "source": [
    "def probability(sample, prior, dist0, dist1):\n",
    "    return(prior*dist0.pdf(sample[0])*dist1.pdf(sample[1]))"
   ]
  },
  {
   "cell_type": "code",
   "execution_count": 16,
   "metadata": {},
   "outputs": [
    {
     "name": "stdout",
     "output_type": "stream",
     "text": [
      "[-7.4693868  -4.20198333] 1\n"
     ]
    }
   ],
   "source": [
    "sample, label = x[4], y[4]\n",
    "\n",
    "print(sample, label)"
   ]
  },
  {
   "cell_type": "code",
   "execution_count": 17,
   "metadata": {},
   "outputs": [
    {
     "name": "stdout",
     "output_type": "stream",
     "text": [
      "1.5929308729447612e-31\n",
      "0.004354081017344896\n"
     ]
    }
   ],
   "source": [
    "py0 = probability(sample, priory0, X0y0, X1y0)\n",
    "print(py0)\n",
    "py1 = probability(sample, priory1, X0y1, X1y1)\n",
    "print(py1)"
   ]
  },
  {
   "cell_type": "code",
   "execution_count": 18,
   "metadata": {},
   "outputs": [
    {
     "name": "stdout",
     "output_type": "stream",
     "text": [
      "P(y=0 | [-7.4693868  -4.20198333]) = 0.000\n",
      "P(y=1 | [-7.4693868  -4.20198333]) = 0.435\n"
     ]
    }
   ],
   "source": [
    "print('P(y=0 | %s) = %.3f' % (sample, py0*100))\n",
    "print('P(y=1 | %s) = %.3f' % (sample, py1*100))"
   ]
  },
  {
   "cell_type": "markdown",
   "metadata": {},
   "source": [
    "Working with Iris data"
   ]
  },
  {
   "cell_type": "code",
   "execution_count": 19,
   "metadata": {},
   "outputs": [
    {
     "data": {
      "text/plain": [
       "array([[5.1, 3.5, 1.4, 0.2, 0. ],\n",
       "       [4.9, 3. , 1.4, 0.2, 0. ],\n",
       "       [4.7, 3.2, 1.3, 0.2, 0. ]])"
      ]
     },
     "execution_count": 19,
     "metadata": {},
     "output_type": "execute_result"
    }
   ],
   "source": [
    "iris_nparr[ : 3]"
   ]
  },
  {
   "cell_type": "code",
   "execution_count": 20,
   "metadata": {},
   "outputs": [],
   "source": [
    "Xy0 = iris_nparr[iris_nparr[:,-1] == 0]\n",
    "Xy1 = iris_nparr[iris_nparr[:,-1] == 1]\n",
    "Xy2 = iris_nparr[iris_nparr[:,-1] == 2]"
   ]
  },
  {
   "cell_type": "code",
   "execution_count": 21,
   "metadata": {},
   "outputs": [
    {
     "name": "stdout",
     "output_type": "stream",
     "text": [
      "0.3333333333333333 0.3333333333333333 0.3333333333333333\n"
     ]
    }
   ],
   "source": [
    "priory0 = len(Xy0[:,-1])/len(iris_nparr)\n",
    "priory1 = len(Xy1[:,-1])/len(iris_nparr)\n",
    "priory2 = len(Xy2[:,-1])/len(iris_nparr)\n",
    "\n",
    "print(priory0, priory1, priory2)"
   ]
  },
  {
   "cell_type": "code",
   "execution_count": 22,
   "metadata": {},
   "outputs": [],
   "source": [
    "def fit_distribution(data):\n",
    "    mu = np.mean(data)\n",
    "    sigma = np.std(data)\n",
    "#     print(mu, sigma)\n",
    "    \n",
    "    dist = scipy.stats.norm(mu, sigma)\n",
    "    return dist"
   ]
  },
  {
   "cell_type": "code",
   "execution_count": 23,
   "metadata": {},
   "outputs": [],
   "source": [
    "Xy0_x0, Xy0_x1, Xy0_x2, Xy0_x3 = fit_distribution(Xy0[:, 0]), fit_distribution(Xy0[:, 1]), fit_distribution(Xy0[:, 2]), fit_distribution(Xy0[:, 3])\n",
    "Xy1_x0, Xy1_x1, Xy1_x2, Xy1_x3 = fit_distribution(Xy1[:, 0]), fit_distribution(Xy1[:, 1]), fit_distribution(Xy1[:, 2]), fit_distribution(Xy1[:, 3])\n",
    "Xy2_x0, Xy2_x1, Xy2_x2, Xy2_x3 = fit_distribution(Xy2[:, 0]), fit_distribution(Xy2[:, 1]), fit_distribution(Xy2[:, 2]), fit_distribution(Xy2[:, 3])"
   ]
  },
  {
   "cell_type": "code",
   "execution_count": 24,
   "metadata": {},
   "outputs": [],
   "source": [
    "def probability(sample, prior, dist0, dist1, dist2, dist3):\n",
    "    return(prior * dist0.pdf(sample[0]) * dist1.pdf(sample[1]) * dist2.pdf(sample[2]) * dist3.pdf(sample[3]))"
   ]
  },
  {
   "cell_type": "code",
   "execution_count": 25,
   "metadata": {},
   "outputs": [
    {
     "name": "stdout",
     "output_type": "stream",
     "text": [
      "[4.9 3.1 1.5 0.2 0. ] 0.0\n"
     ]
    }
   ],
   "source": [
    "sample = iris_nparr[34]\n",
    "label = iris_nparr[34,-1]\n",
    "\n",
    "print(sample, label)"
   ]
  },
  {
   "cell_type": "code",
   "execution_count": 26,
   "metadata": {},
   "outputs": [
    {
     "name": "stdout",
     "output_type": "stream",
     "text": [
      "2.0746839772043923\n",
      "6.324462919703278e-17\n",
      "1.3119213728578478e-24\n"
     ]
    }
   ],
   "source": [
    "py0 = probability(sample, priory0, Xy0_x0, Xy0_x1, Xy0_x2, Xy0_x3)\n",
    "print(py0)\n",
    "py1 = probability(sample, priory1, Xy1_x0, Xy1_x1, Xy1_x2, Xy1_x3)\n",
    "print(py1)\n",
    "py2 = probability(sample, priory2, Xy2_x0, Xy2_x1, Xy2_x2, Xy2_x3)\n",
    "print(py2)"
   ]
  },
  {
   "cell_type": "code",
   "execution_count": 27,
   "metadata": {},
   "outputs": [
    {
     "name": "stdout",
     "output_type": "stream",
     "text": [
      "P(y=0 | [4.9 3.1 1.5 0.2]) = 207.468\n",
      "P(y=1 | [4.9 3.1 1.5 0.2]) = 0.000\n",
      "P(y=2 | [4.9 3.1 1.5 0.2]) = 0.000\n"
     ]
    }
   ],
   "source": [
    "# This gives a 'score' as output, not probability as the quantity is not normalized, a simplification often performed when implementing naive bayes!\n",
    "print('P(y=0 | %s) = %.3f' % (sample[:4], py0*100))\n",
    "print('P(y=1 | %s) = %.3f' % (sample[:4], py1*100))\n",
    "print('P(y=2 | %s) = %.3f' % (sample[:4], py2*100))"
   ]
  },
  {
   "cell_type": "code",
   "execution_count": null,
   "metadata": {},
   "outputs": [],
   "source": []
  }
 ],
 "metadata": {
  "kernelspec": {
   "display_name": "Miscellaneous",
   "language": "python",
   "name": "miscellaneous"
  },
  "language_info": {
   "codemirror_mode": {
    "name": "ipython",
    "version": 3
   },
   "file_extension": ".py",
   "mimetype": "text/x-python",
   "name": "python",
   "nbconvert_exporter": "python",
   "pygments_lexer": "ipython3",
   "version": "3.8.11"
  }
 },
 "nbformat": 4,
 "nbformat_minor": 2
}
