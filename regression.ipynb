{
 "cells": [
  {
   "cell_type": "markdown",
   "metadata": {},
   "source": [
    "Linear regression\n",
    "\n",
    "Data generation for a single feature!"
   ]
  },
  {
   "cell_type": "code",
   "execution_count": 1,
   "metadata": {},
   "outputs": [
    {
     "name": "stdout",
     "output_type": "stream",
     "text": [
      "Theta : 5\n",
      "Noise : 0.2102372856875786\n"
     ]
    }
   ],
   "source": [
    "from sklearn.preprocessing import MinMaxScaler \n",
    "import matplotlib.pyplot as plt\n",
    "import numpy as np\n",
    "import pandas as pd\n",
    "%matplotlib inline \n",
    "\n",
    "\n",
    "sample_size = 100\n",
    "\n",
    "x = np.linspace(0.0,1,sample_size) \n",
    "noise = np.random.randn(len(x)) \n",
    "th = 5\n",
    "\n",
    "print(\"Theta : \" + str(th))\n",
    "print(\"Noise : \" + str(np.mean(noise)))\n",
    "\n",
    "y = th*x + 2*noise"
   ]
  },
  {
   "cell_type": "code",
   "execution_count": 2,
   "metadata": {},
   "outputs": [
    {
     "data": {
      "text/html": [
       "<div>\n",
       "<style scoped>\n",
       "    .dataframe tbody tr th:only-of-type {\n",
       "        vertical-align: middle;\n",
       "    }\n",
       "\n",
       "    .dataframe tbody tr th {\n",
       "        vertical-align: top;\n",
       "    }\n",
       "\n",
       "    .dataframe thead th {\n",
       "        text-align: right;\n",
       "    }\n",
       "</style>\n",
       "<table border=\"1\" class=\"dataframe\">\n",
       "  <thead>\n",
       "    <tr style=\"text-align: right;\">\n",
       "      <th></th>\n",
       "      <th>X</th>\n",
       "      <th>Noise(taken as a feature)</th>\n",
       "      <th>Y</th>\n",
       "    </tr>\n",
       "  </thead>\n",
       "  <tbody>\n",
       "    <tr>\n",
       "      <th>0</th>\n",
       "      <td>0.000000</td>\n",
       "      <td>1.744822</td>\n",
       "      <td>3.489643</td>\n",
       "    </tr>\n",
       "    <tr>\n",
       "      <th>1</th>\n",
       "      <td>0.010101</td>\n",
       "      <td>1.194044</td>\n",
       "      <td>2.438593</td>\n",
       "    </tr>\n",
       "    <tr>\n",
       "      <th>2</th>\n",
       "      <td>0.020202</td>\n",
       "      <td>-1.157493</td>\n",
       "      <td>-2.213976</td>\n",
       "    </tr>\n",
       "    <tr>\n",
       "      <th>3</th>\n",
       "      <td>0.030303</td>\n",
       "      <td>1.430497</td>\n",
       "      <td>3.012509</td>\n",
       "    </tr>\n",
       "    <tr>\n",
       "      <th>4</th>\n",
       "      <td>0.040404</td>\n",
       "      <td>-0.204304</td>\n",
       "      <td>-0.206588</td>\n",
       "    </tr>\n",
       "  </tbody>\n",
       "</table>\n",
       "</div>"
      ],
      "text/plain": [
       "          X  Noise(taken as a feature)         Y\n",
       "0  0.000000                   1.744822  3.489643\n",
       "1  0.010101                   1.194044  2.438593\n",
       "2  0.020202                  -1.157493 -2.213976\n",
       "3  0.030303                   1.430497  3.012509\n",
       "4  0.040404                  -0.204304 -0.206588"
      ]
     },
     "execution_count": 2,
     "metadata": {},
     "output_type": "execute_result"
    }
   ],
   "source": [
    "data = np.column_stack((x, noise, y)) \n",
    "data_df = pd.DataFrame({'X': data[:, 0], 'Noise(taken as a feature)': data[:, 1], 'Y': data[:, 2]})\n",
    "data_df.head()"
   ]
  },
  {
   "cell_type": "code",
   "execution_count": 3,
   "metadata": {},
   "outputs": [
    {
     "data": {
      "text/plain": [
       "Text(0, 0.5, 'Y')"
      ]
     },
     "execution_count": 3,
     "metadata": {},
     "output_type": "execute_result"
    },
    {
     "data": {
      "image/png": "[encoded data removed]",
      "text/plain": [
       "<Figure size 432x288 with 1 Axes>"
      ]
     },
     "metadata": {
      "needs_background": "light"
     },
     "output_type": "display_data"
    }
   ],
   "source": [
    "plt.scatter(x,y)\n",
    "plt.xlabel('X')\n",
    "plt.ylabel('Y')"
   ]
  },
  {
   "cell_type": "code",
   "execution_count": 4,
   "metadata": {},
   "outputs": [],
   "source": [
    "from sklearn import preprocessing"
   ]
  },
  {
   "cell_type": "code",
   "execution_count": 5,
   "metadata": {},
   "outputs": [
    {
     "name": "stdout",
     "output_type": "stream",
     "text": [
      "Predicted Theta : 3.5815449283646\n",
      "Predicted Noise : 1.129702107193291\n"
     ]
    },
    {
     "data": {
      "text/plain": [
       "[<matplotlib.lines.Line2D at 0x7fd04fcfaf70>]"
      ]
     },
     "execution_count": 5,
     "metadata": {},
     "output_type": "execute_result"
    },
    {
     "data": {
      "image/png": "[encoded data removed]",
      "text/plain": [
       "<Figure size 432x288 with 1 Axes>"
      ]
     },
     "metadata": {
      "needs_background": "light"
     },
     "output_type": "display_data"
    }
   ],
   "source": [
    "theta_1 = np.random.uniform(1)\n",
    "theta_0 = np.random.uniform(1) \n",
    "\n",
    "\n",
    "z = 0.38\n",
    "\n",
    "hyp_fun = theta_1*x + theta_0\n",
    "cost_fn = (1/(2*sample_size))*np.sum((hyp_fun - y)**2)\n",
    "\n",
    "temp = np.ones(2)\n",
    "\n",
    "for i in range(1000):\n",
    "    temp[0] = theta_1 - z*(1/sample_size)*(np.sum((hyp_fun - y)*x))\n",
    "    temp[1]= theta_0 - z*(1/sample_size)*(np.sum(hyp_fun - y))\n",
    "    \n",
    "    theta_0 = temp[1]\n",
    "    theta_1 = temp[0]\n",
    "    hyp_fun = theta_1*x + theta_0\n",
    "    cost_fn = (1/(2*sample_size))*np.sum((hyp_fun - y)**2)\n",
    "\n",
    "print(\"Predicted Theta : \" + str(theta_1))\n",
    "\n",
    "print(\"Predicted Noise : \" + str(theta_0))\n",
    "\n",
    "plt.scatter(x,y)    \n",
    "plt.plot(x,hyp_fun)\n",
    "     "
   ]
  },
  {
   "cell_type": "markdown",
   "metadata": {},
   "source": [
    "Linear regression with multiple variables\n",
    "\n",
    "Data generation for three features!"
   ]
  },
  {
   "cell_type": "code",
   "execution_count": 6,
   "metadata": {},
   "outputs": [],
   "source": [
    "%matplotlib inline \n",
    "\n",
    "sample_size = 100\n",
    "\n",
    "x0 = np.ones(100, dtype = int)\n",
    "x0 = x0.reshape(100,1)\n",
    "\n",
    "x1_size = np.random.randint(1000,5000,sample_size) \n",
    "x1 = x1_size.reshape(100,1)\n",
    "\n",
    "x2_rooms = np.random.randint(3,10,sample_size)\n",
    "x2 = x2_rooms.reshape(100,1)\n",
    "\n",
    "x3_bed = np.random.randint(2,5,sample_size)\n",
    "x3 = x3_bed.reshape(100,1)\n",
    "\n",
    "noise = np.random.randn(len(x0))\n",
    "\n",
    "noise = noise.reshape(100,1)\n",
    "\n",
    "# Normalization\n",
    "\n",
    "x1 = (x1 - min(x1))/(max(x1) - min(x1))\n",
    "x2 = (x2 - min(x2))/(max(x2) - min(x2))\n",
    "x3 = (x3 - min(x3))/(max(x3) - min(x3))\n",
    "\n",
    "\n",
    "ft_matrix = np.column_stack((x0, x1, x2, x3))\n",
    "theta = np.array([0, 5, 3, 2])\n",
    "theta = theta.reshape(4,1)\n",
    "y = ft_matrix.dot(theta)\n",
    "y = y.reshape(100,1)"
   ]
  },
  {
   "cell_type": "code",
   "execution_count": 7,
   "metadata": {},
   "outputs": [
    {
     "name": "stdout",
     "output_type": "stream",
     "text": [
      "[[0]\n",
      " [5]\n",
      " [3]\n",
      " [2]]\n"
     ]
    }
   ],
   "source": [
    "print(theta)"
   ]
  },
  {
   "cell_type": "code",
   "execution_count": 8,
   "metadata": {},
   "outputs": [
    {
     "data": {
      "text/html": [
       "<div>\n",
       "<style scoped>\n",
       "    .dataframe tbody tr th:only-of-type {\n",
       "        vertical-align: middle;\n",
       "    }\n",
       "\n",
       "    .dataframe tbody tr th {\n",
       "        vertical-align: top;\n",
       "    }\n",
       "\n",
       "    .dataframe thead th {\n",
       "        text-align: right;\n",
       "    }\n",
       "</style>\n",
       "<table border=\"1\" class=\"dataframe\">\n",
       "  <thead>\n",
       "    <tr style=\"text-align: right;\">\n",
       "      <th></th>\n",
       "      <th>Size</th>\n",
       "      <th>Rooms</th>\n",
       "      <th>#Beds</th>\n",
       "      <th>Y(Price)</th>\n",
       "    </tr>\n",
       "  </thead>\n",
       "  <tbody>\n",
       "    <tr>\n",
       "      <th>0</th>\n",
       "      <td>4928.0</td>\n",
       "      <td>5.0</td>\n",
       "      <td>3.0</td>\n",
       "      <td>69373.881932</td>\n",
       "    </tr>\n",
       "    <tr>\n",
       "      <th>1</th>\n",
       "      <td>3869.0</td>\n",
       "      <td>5.0</td>\n",
       "      <td>3.0</td>\n",
       "      <td>55842.064912</td>\n",
       "    </tr>\n",
       "    <tr>\n",
       "      <th>2</th>\n",
       "      <td>1064.0</td>\n",
       "      <td>7.0</td>\n",
       "      <td>4.0</td>\n",
       "      <td>40000.000000</td>\n",
       "    </tr>\n",
       "    <tr>\n",
       "      <th>3</th>\n",
       "      <td>4968.0</td>\n",
       "      <td>4.0</td>\n",
       "      <td>4.0</td>\n",
       "      <td>74884.998722</td>\n",
       "    </tr>\n",
       "    <tr>\n",
       "      <th>4</th>\n",
       "      <td>2878.0</td>\n",
       "      <td>7.0</td>\n",
       "      <td>2.0</td>\n",
       "      <td>43179.146435</td>\n",
       "    </tr>\n",
       "  </tbody>\n",
       "</table>\n",
       "</div>"
      ],
      "text/plain": [
       "     Size  Rooms  #Beds      Y(Price)\n",
       "0  4928.0    5.0    3.0  69373.881932\n",
       "1  3869.0    5.0    3.0  55842.064912\n",
       "2  1064.0    7.0    4.0  40000.000000\n",
       "3  4968.0    4.0    4.0  74884.998722\n",
       "4  2878.0    7.0    2.0  43179.146435"
      ]
     },
     "execution_count": 8,
     "metadata": {},
     "output_type": "execute_result"
    }
   ],
   "source": [
    "data_ = np.column_stack((x1_size, x2_rooms, x3_bed, y)) \n",
    "data_df_ = pd.DataFrame({'Size': data_[:, 0], 'Rooms': data_[:, 1], '#Beds': data_[:, 2], 'Y(Price)': data_[:, 3]*10000})\n",
    "data_df_.head()"
   ]
  },
  {
   "cell_type": "code",
   "execution_count": 9,
   "metadata": {},
   "outputs": [
    {
     "name": "stdout",
     "output_type": "stream",
     "text": [
      "[[0.00938581]\n",
      " [4.99317968]\n",
      " [2.99319891]\n",
      " [1.99632679]]\n"
     ]
    }
   ],
   "source": [
    "theta_guess = np.array(np.random.randn(4))\n",
    "theta_guess = theta_guess.reshape(4,1)\n",
    "\n",
    "learning_rate = 0.01\n",
    "  \n",
    "hyp_fun = ft_matrix.dot(theta_guess) \n",
    "\n",
    "cost_fun = (1/(2*sample_size))*(np.sum((hyp_fun - y)**2))\n",
    "\n",
    "temp = np.ones(4).reshape(4,1)\n",
    "\n",
    "for i in range(10000):\n",
    "    \n",
    "    temp = theta_guess - (learning_rate*(1/sample_size)*(np.sum(((hyp_fun - y)*(ft_matrix)),axis=0))).reshape(4,1)\n",
    "    theta_guess = temp\n",
    "\n",
    "    hyp_fun = ft_matrix.dot(theta_guess)\n",
    "    cost_fun = 1/(2*sample_size)*(np.sum((hyp_fun - y)**2))\n",
    "    \n",
    "    \n",
    "print(theta_guess)\n",
    "    "
   ]
  },
  {
   "cell_type": "code",
   "execution_count": null,
   "metadata": {},
   "outputs": [],
   "source": []
  }
 ],
 "metadata": {
  "kernelspec": {
   "display_name": "Miscellaneous",
   "language": "python",
   "name": "miscellaneous"
  },
  "language_info": {
   "codemirror_mode": {
    "name": "ipython",
    "version": 3
   },
   "file_extension": ".py",
   "mimetype": "text/x-python",
   "name": "python",
   "nbconvert_exporter": "python",
   "pygments_lexer": "ipython3",
   "version": "3.8.11"
  }
 },
 "nbformat": 4,
 "nbformat_minor": 2
}
